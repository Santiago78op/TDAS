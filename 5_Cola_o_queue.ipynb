{
  "nbformat": 4,
  "nbformat_minor": 0,
  "metadata": {
    "colab": {
      "name": "5. Cola o queue.ipynb",
      "provenance": [],
      "authorship_tag": "ABX9TyN1Kp1gTtdKCUgVr16tjfFT",
      "include_colab_link": true
    },
    "kernelspec": {
      "name": "python3",
      "display_name": "Python 3"
    },
    "language_info": {
      "name": "python"
    }
  },
  "cells": [
    {
      "cell_type": "markdown",
      "metadata": {
        "id": "view-in-github",
        "colab_type": "text"
      },
      "source": [
        "<a href=\"https://colab.research.google.com/github/Santiago78op/TDAS/blob/main/5_Cola_o_queue.ipynb\" target=\"_parent\"><img src=\"https://colab.research.google.com/assets/colab-badge.svg\" alt=\"Open In Colab\"/></a>"
      ]
    },
    {
      "cell_type": "markdown",
      "metadata": {
        "id": "NGbWNiDIvgsr"
      },
      "source": [
        "##**Cola**\n",
        "**Definición de la clase Estudiante**"
      ]
    },
    {
      "cell_type": "code",
      "metadata": {
        "id": "mhIP0zwjvkoh"
      },
      "source": [
        "class estudiante:\n",
        "  def __init__(self, carne, nombre, edad, direccion, telefono, email, carrera, puesto):\n",
        "    self.carne = carne\n",
        "    self.nombre = nombre\n",
        "    self.edad = edad\n",
        "    self.direccion = direccion\n",
        "    self.telefono = telefono\n",
        "    self.email = email\n",
        "    self.carrera = carrera\n",
        "    self.puesto = puesto"
      ],
      "execution_count": 5,
      "outputs": []
    },
    {
      "cell_type": "markdown",
      "metadata": {
        "id": "5RQ-UD0fvlQo"
      },
      "source": [
        "**Definicion Clase Cola**"
      ]
    },
    {
      "cell_type": "code",
      "metadata": {
        "id": "dLGz2Kg2voWu"
      },
      "source": [
        "class Cola:\n",
        "  def __init__(self):\n",
        "    self.cola = []\n",
        "  \n",
        "  def encolar(self,estudiante):\n",
        "    self.cola.append(estudiante)\n",
        "\n",
        "  def recorrer(self):\n",
        "    for elemento in self.cola:\n",
        "      print(\"carne:\", elemento.carne,\"nombre:\", elemento.nombre,\"email:\", elemento.email,\"->\")\n",
        "\n",
        "  def desencolar(self):\n",
        "    if self.cola:\n",
        "      self.cola.pop(0)\n",
        "\n",
        "  def devolver_tamano(self):\n",
        "    return len(self.cola)\n"
      ],
      "execution_count": 33,
      "outputs": []
    },
    {
      "cell_type": "markdown",
      "metadata": {
        "id": "ffY2-xk8wB-3"
      },
      "source": [
        "**Creacion Objetos Clase Estudiante**"
      ]
    },
    {
      "cell_type": "code",
      "metadata": {
        "id": "4dBulBOFwGvl"
      },
      "source": [
        "e1 = estudiante(201915059, \"Gerson Ortiz\", 20, \"9 calle 10.02 zona 1\", 24400101, \"gerson.ortiz@gmail.com\", \"Ingeniería en Sistemas\", \"Programador Jr\")\n",
        "e2 = estudiante(201915860, \"Karen Hurtarte\", 21, \"7 calle 10.02 zona 1\", 24400101, \"karen.hurarte@gmail.com\", \"Ingeniería en Sistemas\", \"Programador Jr\")\n",
        "e3 = estudiante(201915861, \"Luis Mendez\", 21, \"8 calle 10.02 zona 1\", 24400101, \"luis.mendez@gmail.com\", \"Ingeniería en Sistemas\", \"Programador Jr\")"
      ],
      "execution_count": 35,
      "outputs": []
    },
    {
      "cell_type": "markdown",
      "metadata": {
        "id": "F0QUuh7ewKYc"
      },
      "source": [
        "**Encolar**"
      ]
    },
    {
      "cell_type": "code",
      "metadata": {
        "id": "c0P1-3-FwJWe"
      },
      "source": [
        "c = Cola()\n",
        "c.encolar(e1)\n",
        "c.encolar(e2)\n",
        "c.encolar(e3)"
      ],
      "execution_count": 36,
      "outputs": []
    },
    {
      "cell_type": "markdown",
      "metadata": {
        "id": "CTEySXwZxly4"
      },
      "source": [
        "**Recorrer**\n"
      ]
    },
    {
      "cell_type": "code",
      "metadata": {
        "colab": {
          "base_uri": "https://localhost:8080/"
        },
        "id": "1mYBOZOsxo1G",
        "outputId": "f303d8a4-fc03-464e-83f9-9499d93e823a"
      },
      "source": [
        "c.recorrer()"
      ],
      "execution_count": 37,
      "outputs": [
        {
          "output_type": "stream",
          "text": [
            "carne: 201915059 nombre: Gerson Ortiz email: gerson.ortiz@gmail.com ->\n",
            "carne: 201915860 nombre: Karen Hurtarte email: karen.hurarte@gmail.com ->\n",
            "carne: 201915861 nombre: Luis Mendez email: luis.mendez@gmail.com ->\n"
          ],
          "name": "stdout"
        }
      ]
    },
    {
      "cell_type": "markdown",
      "metadata": {
        "id": "oEvGYl3DxtFh"
      },
      "source": [
        "**Desencolar**"
      ]
    },
    {
      "cell_type": "code",
      "metadata": {
        "colab": {
          "base_uri": "https://localhost:8080/"
        },
        "id": "uFSug32oxlLM",
        "outputId": "fc834bd0-e2e1-4230-c634-5d6722998785"
      },
      "source": [
        "c.desencolar()\n",
        "c.recorrer()"
      ],
      "execution_count": 38,
      "outputs": [
        {
          "output_type": "stream",
          "text": [
            "carne: 201915860 nombre: Karen Hurtarte email: karen.hurarte@gmail.com ->\n",
            "carne: 201915861 nombre: Luis Mendez email: luis.mendez@gmail.com ->\n"
          ],
          "name": "stdout"
        }
      ]
    },
    {
      "cell_type": "code",
      "metadata": {
        "colab": {
          "base_uri": "https://localhost:8080/"
        },
        "id": "A2qCrD19yA7G",
        "outputId": "049415b7-5a94-40c0-bbb6-1cdc9ad35b86"
      },
      "source": [
        "c.devolver_tamano()"
      ],
      "execution_count": 39,
      "outputs": [
        {
          "output_type": "execute_result",
          "data": {
            "text/plain": [
              "2"
            ]
          },
          "metadata": {},
          "execution_count": 39
        }
      ]
    }
  ]
}