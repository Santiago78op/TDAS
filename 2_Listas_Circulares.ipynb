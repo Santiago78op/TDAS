{
  "nbformat": 4,
  "nbformat_minor": 0,
  "metadata": {
    "colab": {
      "name": "2. Listas Circulares.ipynb",
      "provenance": [],
      "collapsed_sections": [],
      "authorship_tag": "ABX9TyMzrHpH5/XgmPSlMzkVugAO",
      "include_colab_link": true
    },
    "kernelspec": {
      "name": "python3",
      "display_name": "Python 3"
    },
    "language_info": {
      "name": "python"
    }
  },
  "cells": [
    {
      "cell_type": "markdown",
      "metadata": {
        "id": "view-in-github",
        "colab_type": "text"
      },
      "source": [
        "<a href=\"https://colab.research.google.com/github/Santiago78op/TDAS/blob/main/2_Listas_Circulares.ipynb\" target=\"_parent\"><img src=\"https://colab.research.google.com/assets/colab-badge.svg\" alt=\"Open In Colab\"/></a>"
      ]
    },
    {
      "cell_type": "markdown",
      "metadata": {
        "id": "KLBzngrZr4KE"
      },
      "source": [
        "#**Listas Circualres**\n",
        "**Definicion de la clase Estudiante**"
      ]
    },
    {
      "cell_type": "code",
      "metadata": {
        "id": "BystGyGxsGwR"
      },
      "source": [
        "class estudiante:\n",
        "\n",
        "  def  __init__(self, carne, nombre, edad, direccion, telefono, email, carrera, puesto):\n",
        "    self.carne = carne\n",
        "    self.nombre = nombre\n",
        "    self.edad = edad\n",
        "    self.direccion = direccion\n",
        "    self.telefono = telefono\n",
        "    self.email = email\n",
        "    self.carrera = carrera\n",
        "    self.puesto = puesto"
      ],
      "execution_count": 25,
      "outputs": []
    },
    {
      "cell_type": "markdown",
      "metadata": {
        "id": "UDX_kIxXsLoR"
      },
      "source": [
        "**Definicion de la clase Nodo**"
      ]
    },
    {
      "cell_type": "code",
      "metadata": {
        "id": "x_YpF9RzsMTC"
      },
      "source": [
        "class nodo:\n",
        "\n",
        "  def __init__(self, estudiante=None, siguiente=None):\n",
        "    self.estudiante = estudiante\n",
        "    self.siguiente = siguiente"
      ],
      "execution_count": 26,
      "outputs": []
    },
    {
      "cell_type": "markdown",
      "metadata": {
        "id": "ZoNvC4XAsPSF"
      },
      "source": [
        "**Definicion de la clase Lista Circular**"
      ]
    },
    {
      "cell_type": "code",
      "metadata": {
        "id": "qtEE9ZJEsVOX"
      },
      "source": [
        "class lista_circular:\n",
        "  def __init__(self):\n",
        "    self.primero = None\n",
        "\n",
        "  def insertar(self, estudiante):\n",
        "    if self.primero is None:\n",
        "      self.primero = nodo(estudiante = estudiante)\n",
        "      self.primero.siguiente = self.primero\n",
        "    else:\n",
        "      actual = nodo(estudiante = estudiante, siguiente = self.primero.siguiente)\n",
        "      self.primero.siguiente = actual\n",
        "\n",
        "  def recorrer(self):\n",
        "    if self.primero is None:\n",
        "      return\n",
        "    actual = self.primero \n",
        "    print(\"carne:\", actual.estudiante.carne, \"nombre:\", actual.estudiante.nombre, \"email:\", actual.estudiante.email, \"->\")\n",
        "    while actual.siguiente != self.primero:\n",
        "      actual = actual.siguiente\n",
        "    print(\"carne:\", actual.estudiante.carne, \"nombre:\", actual.estudiante.nombre, \"email:\", actual.estudiante.email, \"->\")\n",
        "\n"
      ],
      "execution_count": 27,
      "outputs": []
    },
    {
      "cell_type": "code",
      "metadata": {
        "id": "x5LuLw8Nu_39"
      },
      "source": [
        "e1 = estudiante(201905984, \"Gerson Barrera\", 20, \"9 calle 10-02 zona 1\", 24456650, \"gerson.ortiz@gmail.com\", \"Ingenieria en Sistemas\", \"Programador Jr\")\n",
        "e2 = estudiante(201905779, \"Karen Barrera\", 29, \"9 calle 10-04 zona 3\", 24456688, \"karen.ortiz@gmail.com\", \"Ingenieria en Sistemas\", \"Programador Jr\")\n",
        "e3 = estudiante(201905559, \"Luis Barrera\", 30, \"9 calle 10-13 zona 12\", 24456671, \"luis.ortiz@gmail.com\", \"Ingenieria en Sistemas\", \"Programador Jr\")"
      ],
      "execution_count": 28,
      "outputs": []
    },
    {
      "cell_type": "markdown",
      "metadata": {
        "id": "cYn1Io-fw4J2"
      },
      "source": [
        "**Insercion**\n"
      ]
    },
    {
      "cell_type": "code",
      "metadata": {
        "id": "L1Qq5T0dw6JI"
      },
      "source": [
        "lista_c = lista_circular()\n",
        "lista_c.insertar(e1)\n",
        "lista_c.insertar(e2)\n",
        "lista_c.insertar(e3)"
      ],
      "execution_count": 29,
      "outputs": []
    },
    {
      "cell_type": "markdown",
      "metadata": {
        "id": "BfbS5MqOxOY5"
      },
      "source": [
        "**Recorrer la Lista**"
      ]
    },
    {
      "cell_type": "code",
      "metadata": {
        "colab": {
          "base_uri": "https://localhost:8080/"
        },
        "id": "CweirS7rxQ-k",
        "outputId": "7c19b9f4-1932-4978-ac87-98a7a782987f"
      },
      "source": [
        "lista_c.recorrer()"
      ],
      "execution_count": 30,
      "outputs": [
        {
          "output_type": "stream",
          "text": [
            "carne: 201905984 nombre: Gerson Barrera email: gerson.ortiz@gmail.com ->\n",
            "carne: 201905779 nombre: Karen Barrera email: karen.ortiz@gmail.com ->\n"
          ],
          "name": "stdout"
        }
      ]
    }
  ]
}