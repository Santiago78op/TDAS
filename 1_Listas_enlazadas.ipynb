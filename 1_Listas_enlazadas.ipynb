{
  "nbformat": 4,
  "nbformat_minor": 0,
  "metadata": {
    "colab": {
      "name": "1. Listas enlazadas.ipynb",
      "provenance": [],
      "collapsed_sections": [],
      "authorship_tag": "ABX9TyPpzXt1fEiKjABBauKMImhw",
      "include_colab_link": true
    },
    "kernelspec": {
      "name": "python3",
      "display_name": "Python 3"
    },
    "language_info": {
      "name": "python"
    }
  },
  "cells": [
    {
      "cell_type": "markdown",
      "metadata": {
        "id": "view-in-github",
        "colab_type": "text"
      },
      "source": [
        "<a href=\"https://colab.research.google.com/github/Santiago78op/TDAS/blob/main/1_Listas_enlazadas.ipynb\" target=\"_parent\"><img src=\"https://colab.research.google.com/assets/colab-badge.svg\" alt=\"Open In Colab\"/></a>"
      ]
    },
    {
      "cell_type": "markdown",
      "metadata": {
        "id": "b1jNcZN9tmcZ"
      },
      "source": [
        "#**Listas Enlazadas**\n",
        "**Definicion de la clase Estudiante**"
      ]
    },
    {
      "cell_type": "code",
      "metadata": {
        "id": "O05qWUUbt3nq"
      },
      "source": [
        "class estudiante:\n",
        "\n",
        "  def  __init__(self, carne, nombre, edad, direccion, telefono, email, carrera, puesto):\n",
        "    self.carne = carne\n",
        "    self.nombre = nombre\n",
        "    self.edad = edad\n",
        "    self.direccion = direccion\n",
        "    self.telefono = telefono\n",
        "    self.email = email\n",
        "    self.carrera = carrera\n",
        "    self.puesto = puesto\n",
        "\n"
      ],
      "execution_count": null,
      "outputs": []
    },
    {
      "cell_type": "markdown",
      "metadata": {
        "id": "8woIOLKEzaSM"
      },
      "source": [
        "**Definicion de la clase Nodo**\n"
      ]
    },
    {
      "cell_type": "code",
      "metadata": {
        "id": "Rnh9I6k-zY9F"
      },
      "source": [
        "class nodo:\n",
        "\n",
        "  def __init__(self, estudiante=None, siguiente=None):\n",
        "    self.estudiante = estudiante\n",
        "    self.siguiente = siguiente\n",
        "    "
      ],
      "execution_count": null,
      "outputs": []
    },
    {
      "cell_type": "markdown",
      "metadata": {
        "id": "0PLgPD4w20b4"
      },
      "source": [
        "**Definicion de la clase Lista Enlazada**"
      ]
    },
    {
      "cell_type": "code",
      "metadata": {
        "id": "t_Lh776z25zc"
      },
      "source": [
        "class lista_enlazada:\n",
        "  \n",
        "  def __init__(self):\n",
        "    self.primero = None\n",
        "  \n",
        "  def insertar(self, estudiante_1):\n",
        "    if self.primero is None:\n",
        "      self.primero = nodo(estudiante = estudiante_1)\n",
        "      return \n",
        "    actual = self.primero\n",
        "    while actual.siguiente:\n",
        "      actual = actual.siguiente\n",
        "    actual.siguiente = nodo(estudiante = estudiante_1)\n",
        "    \n",
        "  def recorrer(self):\n",
        "    actual = self.primero\n",
        "    while actual != None:\n",
        "      print(\"carne:\", actual.estudiante.carne, \"nombre:\", actual.estudiante.nombre, \"email:\", actual.estudiante.email, \"->\")\n",
        "      actual = actual.siguiente \n",
        "\n",
        "  def eliminar(self, carne):\n",
        "    actual = self.primero\n",
        "    anterior = None\n",
        "\n",
        "    while actual and actual.estudiante.carne != carne:\n",
        "      anterior = actual\n",
        "      actual = actual.siguiente\n",
        "\n",
        "    if anterior is None:\n",
        "      self.primero = actual.siguiente\n",
        "      actual.siguiente = None\n",
        "    elif actual:\n",
        "      anterior.siguiente = actual.siguiente\n",
        "      actual.siguiente = None\n",
        "\n",
        "\n",
        "    # De otra manera\n",
        "\n",
        "    '''while actual != None:\n",
        "      if actual.estudiante.carne == carne:\n",
        "        if anterior is None:\n",
        "          self.primero = actual.siguiente\n",
        "          actual.siguiente = None\n",
        "\n",
        "      anterior = actual\n",
        "      actual = actual.siguiente'''\n",
        "\n",
        "\n"
      ],
      "execution_count": null,
      "outputs": []
    },
    {
      "cell_type": "markdown",
      "metadata": {
        "id": "-PEPXYZS4ejc"
      },
      "source": [
        "**Creacion de Objetos Estudiante**"
      ]
    },
    {
      "cell_type": "code",
      "metadata": {
        "id": "-uLiyeZisn3E"
      },
      "source": [
        "e1 = estudiante(201905884, \"Gerson Barrera\", 20, \"9 calle 10-02 zona 1\", 24456650, \"gerson.ortiz@gmail.com\", \"Ingenieria en Sistemas\", \"Programador Jr\")\n",
        "e2 = estudiante(201905779, \"Karen Barrera\", 29, \"9 calle 10-04 zona 3\", 24456688, \"karen.ortiz@gmail.com\", \"Ingenieria en Sistemas\", \"Programador Jr\")\n",
        "e3 = estudiante(201905559, \"Luis Barrera\", 30, \"9 calle 10-13 zona 12\", 24456671, \"luis.ortiz@gmail.com\", \"Ingenieria en Sistemas\", \"Programador Jr\")"
      ],
      "execution_count": null,
      "outputs": []
    },
    {
      "cell_type": "markdown",
      "metadata": {
        "id": "oB3L1AituuSA"
      },
      "source": [
        "**Insercion**"
      ]
    },
    {
      "cell_type": "code",
      "metadata": {
        "id": "gUgoOx2itlqm"
      },
      "source": [
        "lista_e = lista_enlazada()\n",
        "lista_e.insertar(e1)\n",
        "lista_e.insertar(e2)\n",
        "lista_e.insertar(e3)\n",
        "\n"
      ],
      "execution_count": null,
      "outputs": []
    },
    {
      "cell_type": "markdown",
      "metadata": {
        "id": "fbYZ2SlcuWW6"
      },
      "source": [
        "**Recorrer Lista**"
      ]
    },
    {
      "cell_type": "code",
      "metadata": {
        "colab": {
          "base_uri": "https://localhost:8080/"
        },
        "id": "asBf4TbHuSOC",
        "outputId": "87cbdfcc-f536-406e-dd0a-e1c1267ec68e"
      },
      "source": [
        "lista_e.recorrer()"
      ],
      "execution_count": null,
      "outputs": [
        {
          "output_type": "stream",
          "text": [
            "carne: 201905884 nombre: Gerson Barrera email: gerson.ortiz@gmail.com ->\n",
            "carne: 201905779 nombre: Karen Barrera email: karen.ortiz@gmail.com ->\n",
            "carne: 201905559 nombre: Luis Barrera email: luis.ortiz@gmail.com ->\n"
          ],
          "name": "stdout"
        }
      ]
    },
    {
      "cell_type": "markdown",
      "metadata": {
        "id": "Y6CZClJZm-q4"
      },
      "source": [
        "**Eliminar un Nodo de mi Lista**\n"
      ]
    },
    {
      "cell_type": "code",
      "metadata": {
        "colab": {
          "base_uri": "https://localhost:8080/"
        },
        "id": "zfhcafpgnCwe",
        "outputId": "dced05ec-32d6-41c0-a9a5-a87bc8515907"
      },
      "source": [
        "lista_e.eliminar(201905884)\n",
        "lista_e.recorrer()"
      ],
      "execution_count": null,
      "outputs": [
        {
          "output_type": "stream",
          "text": [
            "carne: 201905779 nombre: Karen Barrera email: karen.ortiz@gmail.com ->\n",
            "carne: 201905559 nombre: Luis Barrera email: luis.ortiz@gmail.com ->\n"
          ],
          "name": "stdout"
        }
      ]
    }
  ]
}