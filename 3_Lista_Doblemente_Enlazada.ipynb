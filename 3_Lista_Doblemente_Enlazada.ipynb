{
  "nbformat": 4,
  "nbformat_minor": 0,
  "metadata": {
    "colab": {
      "name": "3. Lista Doblemente Enlazada.ipynb",
      "provenance": [],
      "authorship_tag": "ABX9TyMXLZTwfU2bowRnjRY9PPEV",
      "include_colab_link": true
    },
    "kernelspec": {
      "name": "python3",
      "display_name": "Python 3"
    },
    "language_info": {
      "name": "python"
    }
  },
  "cells": [
    {
      "cell_type": "markdown",
      "metadata": {
        "id": "view-in-github",
        "colab_type": "text"
      },
      "source": [
        "<a href=\"https://colab.research.google.com/github/Santiago78op/TDAS/blob/main/3_Lista_Doblemente_Enlazada.ipynb\" target=\"_parent\"><img src=\"https://colab.research.google.com/assets/colab-badge.svg\" alt=\"Open In Colab\"/></a>"
      ]
    },
    {
      "cell_type": "markdown",
      "metadata": {
        "id": "c8V1vV8O2iwb"
      },
      "source": [
        "#**Listas Doblemente Enlazadas**\n",
        "**Definicion de la clase Estudiante**"
      ]
    },
    {
      "cell_type": "code",
      "metadata": {
        "id": "BBZs7NQu2nmV"
      },
      "source": [
        "class estudiante:\n",
        "  def __init__(self, carne, nombre, edad, direccion, telefono, email, carrera, puesto):\n",
        "    self.carne = carne\n",
        "    self.nombre = nombre\n",
        "    self.edad = edad\n",
        "    self.direccion = direccion\n",
        "    self.telefono = telefono\n",
        "    self.email = email\n",
        "    self.carrera = carrera\n",
        "    self.puesto = puesto"
      ],
      "execution_count": 1,
      "outputs": []
    },
    {
      "cell_type": "markdown",
      "metadata": {
        "id": "lCRC30NE2wLu"
      },
      "source": [
        "**Definición de la clase Nodo**"
      ]
    },
    {
      "cell_type": "code",
      "metadata": {
        "id": "bMbb6DNk2vL3"
      },
      "source": [
        "class nodo:\n",
        "  def __init__(self, estudiante=None, siguiente=None, anterior=None):\n",
        "    self.estudiante = estudiante\n",
        "    self.siguiente = siguiente\n",
        "    self.anterior = anterior"
      ],
      "execution_count": 2,
      "outputs": []
    },
    {
      "cell_type": "markdown",
      "metadata": {
        "id": "vN8Swstt23dV"
      },
      "source": [
        "**Definición de la clase Lista Doblemente Enlazada**"
      ]
    },
    {
      "cell_type": "code",
      "metadata": {
        "id": "yogOEkIG25zO"
      },
      "source": [
        "class lista_doble:\n",
        "  def __init__(self):\n",
        "    self.primero = None\n",
        "\n",
        "  def insertar(self, estudiante):\n",
        "    if self.primero is None:\n",
        "      self.primero = nodo(estudiante=estudiante)\n",
        "    else:\n",
        "      actual = nodo(estudiante=estudiante, siguiente=self.primero)\n",
        "      self.primero.anterior = actual\n",
        "      self.primero = actual\n",
        "  \n",
        "  def recorrer(self):\n",
        "    if self.primero is None:\n",
        "      return\n",
        "    actual = self.primero\n",
        "    print(\"carne:\", actual.estudiante.carne, \"nombre:\", actual.estudiante.nombre, \"email:\", actual.estudiante.email, \"->\")\n",
        "    while actual.siguiente:\n",
        "      actual = actual.siguiente\n",
        "      print(\"carne:\", actual.estudiante.carne, \"nombre:\", actual.estudiante.nombre, \"email:\", actual.estudiante.email, \"->\")\n",
        "  \n",
        "  def eliminar(self, carne):\n",
        "    actual = self.primero\n",
        "    while actual:\n",
        "      if actual.estudiante.carne == carne:\n",
        "        if actual.anterior:\n",
        "          if actual.siguiente:\n",
        "            actual.anterior.siguiente = actual.siguiente\n",
        "            actual.siguiente.anterior = actual.anterior\n",
        "          else:\n",
        "            actual.anterior.siguiente = None\n",
        "            actual.anterior = None\n",
        "        else:\n",
        "          if actual.siguiente:\n",
        "            self.primero = actual.siguiente\n",
        "            actual.siguiente.anterior = None\n",
        "          else:\n",
        "            self.primero = None\n",
        "        return True\n",
        "      else:\n",
        "        actual = actual.siguiente\n",
        "    return False\n",
        "  \n",
        "  def buscar(self, carne):\n",
        "    actual = self.primero\n",
        "\n",
        "    while actual and actual.estudiante.carne != carne:\n",
        "      actual = actual.siguiente\n",
        "    \n",
        "    if actual is None:\n",
        "      print('El nodo no existe en la lista')\n",
        "    elif actual:\n",
        "      print(\"carne:\", actual.estudiante.carne, \"nombre:\", actual.estudiante.nombre, \"email:\", actual.estudiante.email)"
      ],
      "execution_count": 3,
      "outputs": []
    },
    {
      "cell_type": "code",
      "metadata": {
        "id": "8o9wr-In3CU0"
      },
      "source": [
        "e1 = estudiante(201905984, \"Gerson Barrera\", 20, \"9 calle 10-02 zona 1\", 24456650, \"gerson.ortiz@gmail.com\", \"Ingenieria en Sistemas\", \"Programador Jr\")\n",
        "e2 = estudiante(201905779, \"Karen Barrera\", 29, \"9 calle 10-04 zona 3\", 24456688, \"karen.ortiz@gmail.com\", \"Ingenieria en Sistemas\", \"Programador Jr\")\n",
        "e3 = estudiante(201905559, \"Luis Barrera\", 30, \"9 calle 10-13 zona 12\", 24456671, \"luis.ortiz@gmail.com\", \"Ingenieria en Sistemas\", \"Programador Jr\")"
      ],
      "execution_count": 6,
      "outputs": []
    },
    {
      "cell_type": "markdown",
      "metadata": {
        "id": "4JTrdNoA3IY7"
      },
      "source": [
        "**Inserción**"
      ]
    },
    {
      "cell_type": "code",
      "metadata": {
        "id": "8oH6mtjs3JtW"
      },
      "source": [
        "lista_d = lista_doble()\n",
        "lista_d.insertar(e1)\n",
        "lista_d.insertar(e2)\n",
        "lista_d.insertar(e3)"
      ],
      "execution_count": 7,
      "outputs": []
    },
    {
      "cell_type": "markdown",
      "metadata": {
        "id": "v6XON2Mx3VI3"
      },
      "source": [
        "**Recorrer la lista**"
      ]
    },
    {
      "cell_type": "code",
      "metadata": {
        "colab": {
          "base_uri": "https://localhost:8080/"
        },
        "id": "emrdiMi23Wjt",
        "outputId": "2d19a5e5-d4ae-4c40-b0cb-6262c482634f"
      },
      "source": [
        "lista_d.recorrer()"
      ],
      "execution_count": 8,
      "outputs": [
        {
          "output_type": "stream",
          "text": [
            "carne: 201905559 nombre: Luis Barrera email: luis.ortiz@gmail.com ->\n",
            "carne: 201905779 nombre: Karen Barrera email: karen.ortiz@gmail.com ->\n",
            "carne: 201905984 nombre: Gerson Barrera email: gerson.ortiz@gmail.com ->\n"
          ],
          "name": "stdout"
        }
      ]
    },
    {
      "cell_type": "markdown",
      "metadata": {
        "id": "7zdR4KGR3Zrj"
      },
      "source": [
        "**Eliminar el nodo del medio de la lista**"
      ]
    },
    {
      "cell_type": "code",
      "metadata": {
        "colab": {
          "base_uri": "https://localhost:8080/"
        },
        "id": "IXR19n4r3dFe",
        "outputId": "275b9d0d-329d-4625-84f5-5b5270a5fd41"
      },
      "source": [
        "lista_d.eliminar(201905779)"
      ],
      "execution_count": 9,
      "outputs": [
        {
          "output_type": "execute_result",
          "data": {
            "text/plain": [
              "True"
            ]
          },
          "metadata": {},
          "execution_count": 9
        }
      ]
    },
    {
      "cell_type": "code",
      "metadata": {
        "colab": {
          "base_uri": "https://localhost:8080/"
        },
        "id": "1PZJFnqd3jS3",
        "outputId": "50668632-c1f0-404b-e8cc-1d1b9af89806"
      },
      "source": [
        "lista_d.recorrer()"
      ],
      "execution_count": 10,
      "outputs": [
        {
          "output_type": "stream",
          "text": [
            "carne: 201905559 nombre: Luis Barrera email: luis.ortiz@gmail.com ->\n",
            "carne: 201905984 nombre: Gerson Barrera email: gerson.ortiz@gmail.com ->\n"
          ],
          "name": "stdout"
        }
      ]
    },
    {
      "cell_type": "markdown",
      "metadata": {
        "id": "4j_wUreN3mAo"
      },
      "source": [
        "**Eliminar el último nodo de la lista**"
      ]
    },
    {
      "cell_type": "code",
      "metadata": {
        "colab": {
          "base_uri": "https://localhost:8080/"
        },
        "id": "Y2Tqgcn83oZK",
        "outputId": "ca2375cc-5ec5-4071-e69a-c4cf9ea6ca9b"
      },
      "source": [
        "lista_d.eliminar(201905984 )\n",
        "lista_d.recorrer()"
      ],
      "execution_count": 11,
      "outputs": [
        {
          "output_type": "stream",
          "text": [
            "carne: 201905559 nombre: Luis Barrera email: luis.ortiz@gmail.com ->\n"
          ],
          "name": "stdout"
        }
      ]
    },
    {
      "cell_type": "markdown",
      "metadata": {
        "id": "4z1P57v04FW9"
      },
      "source": [
        "**Eliminar nodo a nodo de la lista**"
      ]
    },
    {
      "cell_type": "code",
      "metadata": {
        "id": "K7woZJHK4GoE"
      },
      "source": [
        "lista_d.eliminar(201915861)\n",
        "lista_d.recorrer()"
      ],
      "execution_count": null,
      "outputs": []
    },
    {
      "cell_type": "code",
      "metadata": {
        "id": "wA9S2t8-4I2D"
      },
      "source": [
        "lista_d.eliminar(201915860)\n",
        "lista_d.recorrer()"
      ],
      "execution_count": null,
      "outputs": []
    },
    {
      "cell_type": "code",
      "metadata": {
        "id": "GxIunJoY4KUn"
      },
      "source": [
        "lista_d.eliminar(201915059)\n",
        "lista_d.recorrer()"
      ],
      "execution_count": null,
      "outputs": []
    },
    {
      "cell_type": "markdown",
      "metadata": {
        "id": "PbfQUZsa4NoZ"
      },
      "source": [
        "**Búsqueda**"
      ]
    },
    {
      "cell_type": "code",
      "metadata": {
        "id": "LnedT-hS4Lot"
      },
      "source": [
        "lista_d.buscar(201915860)\n",
        "lista_d.buscar(5623452)"
      ],
      "execution_count": null,
      "outputs": []
    }
  ]
}