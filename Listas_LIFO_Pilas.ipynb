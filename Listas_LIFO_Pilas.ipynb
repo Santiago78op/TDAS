{
  "nbformat": 4,
  "nbformat_minor": 0,
  "metadata": {
    "colab": {
      "name": "Listas LIFO Pilas.ipynb",
      "provenance": [],
      "collapsed_sections": [],
      "authorship_tag": "ABX9TyMJw48m71hl1uDJQ+r6YWZX",
      "include_colab_link": true
    },
    "kernelspec": {
      "name": "python3",
      "display_name": "Python 3"
    },
    "language_info": {
      "name": "python"
    }
  },
  "cells": [
    {
      "cell_type": "markdown",
      "metadata": {
        "id": "view-in-github",
        "colab_type": "text"
      },
      "source": [
        "<a href=\"https://colab.research.google.com/github/Santiago78op/TDAS/blob/main/Listas_LIFO_Pilas.ipynb\" target=\"_parent\"><img src=\"https://colab.research.google.com/assets/colab-badge.svg\" alt=\"Open In Colab\"/></a>"
      ]
    },
    {
      "cell_type": "markdown",
      "metadata": {
        "id": "jdWELyyJnwWc"
      },
      "source": [
        "##**Pila**\n",
        "**Definición de la clase Estudiante**"
      ]
    },
    {
      "cell_type": "code",
      "metadata": {
        "id": "tfGnmTD9n0tj"
      },
      "source": [
        "class estudiante:\n",
        "  def __init__(self, carne, nombre, edad, direccion, telefono, email, carrera, puesto):\n",
        "    self.carne = carne\n",
        "    self.nombre = nombre\n",
        "    self.edad = edad\n",
        "    self.direccion = direccion\n",
        "    self.telefono = telefono\n",
        "    self.email = email\n",
        "    self.carrera = carrera\n",
        "    self.puesto = puesto"
      ],
      "execution_count": 1,
      "outputs": []
    },
    {
      "cell_type": "markdown",
      "metadata": {
        "id": "4T7s0zyen4Zv"
      },
      "source": [
        "**Definición de la clase Pila**"
      ]
    },
    {
      "cell_type": "code",
      "metadata": {
        "id": "hAdCRldZn9fq"
      },
      "source": [
        "class Pila:\n",
        "  def __init__(self):\n",
        "    self.pila = []\n",
        "\n",
        "  def apilar(self, estudiante):\n",
        "    self.pila.append(estudiante)\n",
        "\n",
        "  def recorrer(self):\n",
        "    for elemento in self.pila:\n",
        "      print(\"carne:\", elemento.carne,\"nombre:\", elemento.nombre,\"email:\", elemento.email,\"->\")\n",
        "\n",
        "  def desapilar(self):\n",
        "    if self.pila:\n",
        "      self.pila.pop()\n",
        "  \n",
        "  def devolver_tamano(self):\n",
        "    return len(self.pila)\n"
      ],
      "execution_count": 23,
      "outputs": []
    },
    {
      "cell_type": "markdown",
      "metadata": {
        "id": "OnGwJubKpMeC"
      },
      "source": [
        "**Creacion de Objetos Estudiante**"
      ]
    },
    {
      "cell_type": "code",
      "metadata": {
        "id": "ZUSi7OcZpPPq"
      },
      "source": [
        "e1 = estudiante(201915059, \"Gerson Ortiz\", 20, \"9 calle 10.02 zona 1\", 24400101, \"gerson.ortiz@gmail.com\", \"Ingeniería en Sistemas\", \"Programador Jr\")\n",
        "e2 = estudiante(201915860, \"Karen Hurtarte\", 21, \"7 calle 10.02 zona 1\", 24400101, \"karen.hurarte@gmail.com\", \"Ingeniería en Sistemas\", \"Programador Jr\")\n",
        "e3 = estudiante(201915861, \"Luis Mendez\", 21, \"8 calle 10.02 zona 1\", 24400101, \"luis.mendez@gmail.com\", \"Ingeniería en Sistemas\", \"Programador Jr\")"
      ],
      "execution_count": 24,
      "outputs": []
    },
    {
      "cell_type": "markdown",
      "metadata": {
        "id": "e3rYIPbipfe1"
      },
      "source": [
        "**Aplicar Funcion Aplilar**\n"
      ]
    },
    {
      "cell_type": "code",
      "metadata": {
        "id": "QH5EQXcdpjrj"
      },
      "source": [
        "p = Pila()\n",
        "p.apilar(e1)\n",
        "p.apilar(e2)\n",
        "p.apilar(e3)"
      ],
      "execution_count": 25,
      "outputs": []
    },
    {
      "cell_type": "markdown",
      "metadata": {
        "id": "Vek3uhifq9Vv"
      },
      "source": [
        "**Recorrer**\n"
      ]
    },
    {
      "cell_type": "code",
      "metadata": {
        "colab": {
          "base_uri": "https://localhost:8080/"
        },
        "id": "fUW7aRG9rALn",
        "outputId": "a7531490-fbc6-4ea5-defc-4e2ff5a79dd7"
      },
      "source": [
        "p.recorrer()"
      ],
      "execution_count": 26,
      "outputs": [
        {
          "output_type": "stream",
          "text": [
            "carne: 201915059 nombre: Gerson Ortiz email: gerson.ortiz@gmail.com ->\n",
            "carne: 201915860 nombre: Karen Hurtarte email: karen.hurarte@gmail.com ->\n",
            "carne: 201915861 nombre: Luis Mendez email: luis.mendez@gmail.com ->\n"
          ],
          "name": "stdout"
        }
      ]
    },
    {
      "cell_type": "markdown",
      "metadata": {
        "id": "cVC8QEibtF9U"
      },
      "source": [
        "**Desapilar**"
      ]
    },
    {
      "cell_type": "code",
      "metadata": {
        "colab": {
          "base_uri": "https://localhost:8080/"
        },
        "id": "g7IvZ9cctI72",
        "outputId": "7b24064a-44e0-4ebf-cb24-5d0298322c32"
      },
      "source": [
        "p.desapilar()\n",
        "p.recorrer()"
      ],
      "execution_count": 27,
      "outputs": [
        {
          "output_type": "stream",
          "text": [
            "carne: 201915059 nombre: Gerson Ortiz email: gerson.ortiz@gmail.com ->\n",
            "carne: 201915860 nombre: Karen Hurtarte email: karen.hurarte@gmail.com ->\n"
          ],
          "name": "stdout"
        }
      ]
    },
    {
      "cell_type": "markdown",
      "metadata": {
        "id": "icTQm4tUtruD"
      },
      "source": [
        "**Obtener Tamaño de la Pila**"
      ]
    },
    {
      "cell_type": "code",
      "metadata": {
        "colab": {
          "base_uri": "https://localhost:8080/"
        },
        "id": "LiwmVaLotumN",
        "outputId": "973c1f2b-8a9a-4255-8c9e-504100dded52"
      },
      "source": [
        "p.devolver_tamano()"
      ],
      "execution_count": 28,
      "outputs": [
        {
          "output_type": "execute_result",
          "data": {
            "text/plain": [
              "2"
            ]
          },
          "metadata": {},
          "execution_count": 28
        }
      ]
    }
  ]
}